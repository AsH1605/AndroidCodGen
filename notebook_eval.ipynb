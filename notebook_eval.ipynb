{
 "cells": [
  {
   "cell_type": "code",
   "execution_count": null,
   "metadata": {},
   "outputs": [],
   "source": [
    "from transformers import AutoModelForCausalLM, AutoTokenizer, TrainingArguments, Trainer, DataCollatorForSeq2Seq\n",
    "from peft import LoraConfig, get_peft_model\n",
    "from datasets import Dataset\n",
    "import pandas as pd\n",
    "import torch\n",
    "from peft import PeftModel\n",
    "from pathlib import Path\n",
    "\n",
    "ASSETS_DIR = Path(\"./assets\")\n",
    "dataset_path = ASSETS_DIR / \"fine-tuning-small.csv\" \n",
    "eval_dataset_path = ASSETS_DIR / \"evaluation-small.csv\"\n",
    "eval_data_output_path = ASSETS_DIR / \"evaluation-small-output.csv\"\n",
    "\n",
    "# Temp\n",
    "OUTPUT_DIR =  \"./output/deepseek_coder_v2\"\n",
    "\n",
    "# Models\n",
    "MODEL_DIR = Path(\"./models\")\n",
    "WEIGHTS_PATH = MODEL_DIR / 'model_weights_ast.pth'\n",
    "MODEL_PATH= MODEL_DIR / 'model_peft'"
   ]
  },
  {
   "cell_type": "code",
   "execution_count": null,
   "metadata": {},
   "outputs": [],
   "source": [
    "\n",
    "# Load tokenizer and model\n",
    "tokenizer = AutoTokenizer.from_pretrained(\"JetBrains/deepseek-coder-1.3B-kexer\")\n",
    "model = torch.load(WEIGHTS_PATH, map_location=\"cuda\" if torch.cuda.is_available() else \"cpu\")\n",
    "peft_model = PeftModel.from_pretrained(model, MODEL_PATH)\n",
    "peft_model.to(\"cuda\" if torch.cuda.is_available() else \"cpu\")\n",
    "\n",
    "def generate_solution(example_problem: str) -> str:\n",
    "    instruction = \"You are a coding assistant. Given the following coding problem, provide a clear and detailed solution.\\n\"\n",
    "    input_text = instruction + example_problem\n",
    "    \n",
    "    input_ids = tokenizer(input_text, return_tensors=\"pt\").input_ids.to(peft_model.device)\n",
    "    generated_ids = peft_model.generate(\n",
    "        input_ids,\n",
    "        max_length=20000,\n",
    "        num_beams=5,\n",
    "        early_stopping=True,\n",
    "        pad_token_id=tokenizer.pad_token_id\n",
    "    )\n",
    "    solution = tokenizer.decode(generated_ids[0], skip_special_tokens=True)\n",
    "    return solution"
   ]
  },
  {
   "cell_type": "code",
   "execution_count": null,
   "metadata": {},
   "outputs": [],
   "source": [
    "print(\"Generating solutions for each problem...\")\n",
    "data = pd.read_csv(eval_dataset_path)\n",
    "# Generate 101 solutions for each problem\n",
    "for i in range(1, 101):\n",
    "    column_name = f\"solution_{i}\"\n",
    "    data[column_name] = data['problem'].apply(generate_solution)\n",
    "    print(f\"Generated column: {column_name}\")\n",
    "\n",
    "# Save the updated dataset with generated solutions\n",
    "data.to_csv(eval_data_output_path, index=False)\n",
    "\n",
    "print(\"Solutions saved to {eval_data_output_path}\")"
   ]
  }
 ],
 "metadata": {
  "kernelspec": {
   "display_name": "android-codegen",
   "language": "python",
   "name": "python3"
  },
  "language_info": {
   "name": "python",
   "version": "3.12.9"
  }
 },
 "nbformat": 4,
 "nbformat_minor": 2
}
