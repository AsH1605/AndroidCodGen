{
 "cells": [
  {
   "cell_type": "code",
   "execution_count": 4,
   "metadata": {},
   "outputs": [
    {
     "name": "stdout",
     "output_type": "stream",
     "text": [
      "Requirement already satisfied: torch in c:\\users\\hp\\projects\\androidcodegen\\codegen\\lib\\site-packages (2.6.0)\n",
      "Requirement already satisfied: filelock in c:\\users\\hp\\projects\\androidcodegen\\codegen\\lib\\site-packages (from torch) (3.17.0)\n",
      "Requirement already satisfied: typing-extensions>=4.10.0 in c:\\users\\hp\\projects\\androidcodegen\\codegen\\lib\\site-packages (from torch) (4.12.2)\n",
      "Requirement already satisfied: networkx in c:\\users\\hp\\projects\\androidcodegen\\codegen\\lib\\site-packages (from torch) (3.4.2)\n",
      "Requirement already satisfied: jinja2 in c:\\users\\hp\\projects\\androidcodegen\\codegen\\lib\\site-packages (from torch) (3.1.5)\n",
      "Requirement already satisfied: fsspec in c:\\users\\hp\\projects\\androidcodegen\\codegen\\lib\\site-packages (from torch) (2024.12.0)\n",
      "Requirement already satisfied: setuptools in c:\\users\\hp\\projects\\androidcodegen\\codegen\\lib\\site-packages (from torch) (75.8.0)\n",
      "Requirement already satisfied: sympy==1.13.1 in c:\\users\\hp\\projects\\androidcodegen\\codegen\\lib\\site-packages (from torch) (1.13.1)\n",
      "Requirement already satisfied: mpmath<1.4,>=1.1.0 in c:\\users\\hp\\projects\\androidcodegen\\codegen\\lib\\site-packages (from sympy==1.13.1->torch) (1.3.0)\n",
      "Requirement already satisfied: MarkupSafe>=2.0 in c:\\users\\hp\\projects\\androidcodegen\\codegen\\lib\\site-packages (from jinja2->torch) (3.0.2)\n"
     ]
    },
    {
     "name": "stderr",
     "output_type": "stream",
     "text": [
      "\n",
      "[notice] A new release of pip is available: 24.3.1 -> 25.0.1\n",
      "[notice] To update, run: python.exe -m pip install --upgrade pip\n"
     ]
    }
   ],
   "source": [
    "! pip install torch"
   ]
  },
  {
   "cell_type": "code",
   "execution_count": 5,
   "metadata": {},
   "outputs": [
    {
     "name": "stderr",
     "output_type": "stream",
     "text": [
      "c:\\Users\\hp\\Projects\\AndroidCodegen\\codegen\\Lib\\site-packages\\tqdm\\auto.py:21: TqdmWarning: IProgress not found. Please update jupyter and ipywidgets. See https://ipywidgets.readthedocs.io/en/stable/user_install.html\n",
      "  from .autonotebook import tqdm as notebook_tqdm\n"
     ]
    }
   ],
   "source": [
    "from transformers import AutoModelForCausalLM, AutoTokenizer, TrainingArguments, Trainer, DataCollatorForSeq2Seq\n",
    "from peft import LoraConfig, get_peft_model\n",
    "from datasets import Dataset\n",
    "import pandas as pd\n",
    "import torch\n",
    "from pathlib import Path\n",
    "\n",
    "# Assets\n",
    "ASSETS_DIR = Path(\"./assets\")\n",
    "dataset_path = ASSETS_DIR / \"fine-tuning-small.csv\" \n",
    "eval_dataset_path = ASSETS_DIR / \"evaluation-small.csv\"\n",
    "eval_data_output_path = ASSETS_DIR / \"evaluation-small-output.csv\"\n",
    "\n",
    "# Temp\n",
    "OUTPUT_DIR =  \"./output/deepseek_coder_v2\"\n",
    "\n",
    "# Models\n",
    "MODEL_DIR = Path(\"./models\")\n",
    "WEIGHTS_PATH = MODEL_DIR / 'model_weights_ast.pth'\n",
    "MODEL_PATH= MODEL_DIR / 'model_peft'\n",
    "\n",
    "# Warning: Before running the script, ensure that folders exist\n"
   ]
  },
  {
   "cell_type": "code",
   "execution_count": null,
   "metadata": {},
   "outputs": [],
   "source": [
    "# Load pre-trained model and tokenizer\n",
    "data = pd.read_csv(dataset_path)\n",
    "device = \"cuda\" if torch.cuda.is_available() else \"cpu\"\n",
    "model_name = 'JetBrains/deepseek-coder-1.3B-kexer'\n",
    "tokenizer = AutoTokenizer.from_pretrained(model_name)\n",
    "model = AutoModelForCausalLM.from_pretrained(model_name).to(device)\n",
    "print(\"Model initialized..\")\n",
    "\n",
    "peft_config = LoraConfig(\n",
    "    task_type=\"CAUSAL_LM\",\n",
    "    target_modules=[\"q_proj\", \"kv_a_proj_with_mqa\", \"kv_b_proj\", \"o_proj\", 'gate_proj', 'up_proj', 'down_proj'],\n",
    "    r=8,\n",
    "    lora_alpha=64,\n",
    "    lora_dropout=0.1\n",
    ")\n",
    "print(\"Memory allocated:\", torch.cuda.memory_allocated() / (1024 * 1024))\n",
    "\n",
    "def tokenize_function(example):\n",
    "    inputs = tokenizer(text=example['instruction'] + example['problem'], padding=\"max_length\", max_length=384, truncation=True)\n",
    "    response = tokenizer(text=example[\"solution\"], padding=\"max_length\", max_length=384, truncation=True)\n",
    "    \n",
    "    input_ids = inputs['input_ids'] + response[\"input_ids\"] + [tokenizer.pad_token_id]\n",
    "    attention_mask = inputs[\"attention_mask\"] + response[\"attention_mask\"] + [1]\n",
    "    label = [-100] * len(inputs['input_ids']) + response[\"input_ids\"] + [tokenizer.pad_token_id]\n",
    "\n",
    "    return {\n",
    "        'input_ids': input_ids,\n",
    "        'attention_mask': attention_mask,\n",
    "        'labels': label\n",
    "    }\n",
    "\n",
    "peft_model = get_peft_model(model, peft_config)\n",
    "peft_model.print_trainable_parameters()\n",
    "print(\"PEFT Model Created\")\n",
    "\n",
    "data['instruction'] = \"You are a coding assistant. Given the following coding problem, provide a clear and detailed solution.\"\n",
    "data.dropna(inplace=True)\n",
    "train_data = Dataset.from_pandas(data.iloc[0:int(0.8 * len(data)), :])\n",
    "eval_dataset = Dataset.from_pandas(data.iloc[int(0.8 * len(data)):, :])\n",
    "\n",
    "train_data = train_data.map(tokenize_function)\n",
    "eval_dataset = eval_dataset.map(tokenize_function)\n",
    "\n",
    "args = TrainingArguments(\n",
    "    output_dir=OUTPUT_DIR,\n",
    "    per_device_train_batch_size=1,\n",
    "    logging_steps=10,\n",
    "    num_train_epochs=10,\n",
    "    save_steps=100,\n",
    "    learning_rate=1e-5,\n",
    "    report_to=\"none\",\n",
    "    eval_strategy=\"steps\",\n",
    "    eval_steps=100,\n",
    "    per_device_eval_batch_size=1,\n",
    "    gradient_accumulation_steps=8,\n",
    ")\n",
    "\n",
    "trainer = Trainer(\n",
    "    model=peft_model,\n",
    "    args=args,\n",
    "    train_dataset=train_data,\n",
    "    eval_dataset=eval_dataset,\n",
    "    data_collator=DataCollatorForSeq2Seq(tokenizer=tokenizer, padding=True)\n",
    ")\n",
    "trainer.train()\n",
    "\n",
    "torch.save(peft_model, WEIGHTS_PATH)\n",
    "peft_model.save_pretrained(MODEL_PATH)\n",
    "print(\"Model Saved Successfully\")"
   ]
  },
  {
   "cell_type": "code",
   "execution_count": 8,
   "metadata": {},
   "outputs": [
    {
     "name": "stdout",
     "output_type": "stream",
     "text": [
      "Model Saved Successfully\n"
     ]
    }
   ],
   "source": []
  }
 ],
 "metadata": {
  "kernelspec": {
   "display_name": "codegen",
   "language": "python",
   "name": "python3"
  },
  "language_info": {
   "codemirror_mode": {
    "name": "ipython",
    "version": 3
   },
   "file_extension": ".py",
   "mimetype": "text/x-python",
   "name": "python",
   "nbconvert_exporter": "python",
   "pygments_lexer": "ipython3",
   "version": "3.13.2"
  }
 },
 "nbformat": 4,
 "nbformat_minor": 2
}
